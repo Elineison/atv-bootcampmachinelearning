{
 "cells": [
  {
   "cell_type": "markdown",
   "id": "a0349e77",
   "metadata": {},
   "source": [
    "Bootcamp Machine Learning\n",
    "\n",
    "Atlântico Avanti\n",
    "\n",
    "MCL 2025.2\n",
    "\n",
    "Aluno: Elineison Inacio de Sousa\n",
    "\n",
    "ATIVIDADE 02"
   ]
  },
  {
   "cell_type": "code",
   "execution_count": 8,
   "id": "3fb41c05",
   "metadata": {},
   "outputs": [
    {
     "name": "stdout",
     "output_type": "stream",
     "text": [
      "[1, 3, 5]\n"
     ]
    }
   ],
   "source": [
    "# 1. Escreva uma função que receba uma lista de números e retorne outra lista com os números ímpares.\n",
    "def impares(lista):\n",
    "    return [x for x in lista if x % 2 != 0]\n",
    "\n",
    "print(impares([1, 2, 3, 4, 5]))  "
   ]
  },
  {
   "cell_type": "code",
   "execution_count": 9,
   "id": "7a1bef14",
   "metadata": {},
   "outputs": [
    {
     "name": "stdout",
     "output_type": "stream",
     "text": [
      "[2, 3, 5, 7]\n"
     ]
    }
   ],
   "source": [
    "# 2. Escreva uma função que receba uma lista de números e retorne outra lista com os números primos presentes.\n",
    "def primos(lista):\n",
    "    def eh_primo(n):\n",
    "        if n < 2:\n",
    "            return False\n",
    "        for i in range(2, n):\n",
    "            if n % i == 0:\n",
    "                return False\n",
    "        return True\n",
    "    return [x for x in lista if eh_primo(x)]\n",
    "\n",
    "print(primos([2, 3, 4, 5, 6, 7, 8, 9]))  "
   ]
  },
  {
   "cell_type": "code",
   "execution_count": 10,
   "id": "a668b619",
   "metadata": {},
   "outputs": [
    {
     "name": "stdout",
     "output_type": "stream",
     "text": [
      "[1, 4, 5]\n"
     ]
    }
   ],
   "source": [
    "# 3. Escreva uma função que receba duas listas e retorne outra lista com os elementos que estão presentes em apenas uma das listas.\n",
    "def exclusivos(lista1, lista2):\n",
    "    return list(set(lista1) ^ set(lista2))\n",
    "\n",
    "print(exclusivos([1, 2, 3], [2, 3, 4, 5])) "
   ]
  },
  {
   "cell_type": "code",
   "execution_count": 11,
   "id": "5839bec8",
   "metadata": {},
   "outputs": [
    {
     "name": "stdout",
     "output_type": "stream",
     "text": [
      "5\n"
     ]
    }
   ],
   "source": [
    "# 4. Dada uma lista de números inteiros, escreva uma função para encontrar o segundo maior valor na lista.\n",
    "def segundo_maior(lista):\n",
    "    l = list(set(lista))\n",
    "    l.sort()\n",
    "    if len(l) >= 2:\n",
    "        return l[-2]\n",
    "    else:\n",
    "        return None\n",
    "\n",
    "print(segundo_maior([5, 2, 9, 1, 9]))  "
   ]
  },
  {
   "cell_type": "code",
   "execution_count": 12,
   "id": "fa6176f7",
   "metadata": {},
   "outputs": [
    {
     "name": "stdout",
     "output_type": "stream",
     "text": [
      "Outlier (quartis): 100\n"
     ]
    }
   ],
   "source": [
    "# 6. Como identificar e tratar outliers em uma coluna numérica usando desvio padrão ou quartis?\n",
    "import numpy as np\n",
    "\n",
    "numeros = [10, 12, 14, 15, 100]\n",
    "\n",
    "# Pelo desvio padrão \n",
    "media = np.mean(numeros)\n",
    "desvio = np.std(numeros)\n",
    "for x in numeros:\n",
    "    if x < media - 2*desvio or x > media + 2*desvio:\n",
    "        print('Outlier (desvio):', x)\n",
    "\n",
    "# Pelo IQR/quartis \n",
    "q1 = np.percentile(numeros, 25)\n",
    "q3 = np.percentile(numeros, 75)\n",
    "iqr = q3 - q1\n",
    "for x in numeros:\n",
    "    if x < q1 - 1.5*iqr or x > q3 + 1.5*iqr:\n",
    "        print('Outlier (quartis):', x)"
   ]
  },
  {
   "cell_type": "code",
   "execution_count": 13,
   "id": "64677d81",
   "metadata": {},
   "outputs": [
    {
     "name": "stdout",
     "output_type": "stream",
     "text": [
      "   A    B    C\n",
      "0  1  3.0  NaN\n",
      "1  2  4.0  NaN\n",
      "0  5  NaN  7.0\n",
      "1  6  NaN  8.0\n",
      "   A  B  A  C\n",
      "0  1  3  5  7\n",
      "1  2  4  6  8\n"
     ]
    }
   ],
   "source": [
    "# 7. Como concatenar vários DataFrames (empilhando linhas ou colunas), mesmo que tenham colunas diferentes?\n",
    "import pandas as pd\n",
    "\n",
    "df1 = pd.DataFrame({'A': [1, 2], 'B': [3, 4]})\n",
    "df2 = pd.DataFrame({'A': [5, 6], 'C': [7, 8]})\n",
    "\n",
    "# Empilhar linhas\n",
    "print(pd.concat([df1, df2], axis=0))\n",
    "\n",
    "# Empilhar colunas\n",
    "print(pd.concat([df1, df2], axis=1))"
   ]
  },
  {
   "cell_type": "code",
   "execution_count": 14,
   "id": "921cf832",
   "metadata": {},
   "outputs": [],
   "source": [
    "# 8. Utilizando pandas, como realizar a leitura de um arquivo CSV em um DataFrame e exibir as primeiras linhas?\n",
    "import pandas as pd\n",
    "\n",
    "#df = pd.read_csv('arquivo.csv')\n",
    "#print(df.head())"
   ]
  },
  {
   "cell_type": "code",
   "execution_count": 15,
   "id": "854025d7",
   "metadata": {},
   "outputs": [
    {
     "name": "stdout",
     "output_type": "stream",
     "text": [
      "0     ana\n",
      "1     bia\n",
      "2    caio\n",
      "Name: nome, dtype: object\n",
      "   nome  idade\n",
      "1   bia     22\n",
      "2  caio     19\n"
     ]
    }
   ],
   "source": [
    "# 9. Utilizando pandas, como selecionar uma coluna específica e filtrar linhas em um DataFrame com base em uma condição?\n",
    "import pandas as pd\n",
    "\n",
    "df = pd.DataFrame({'nome': ['ana', 'bia', 'caio'], 'idade': [17, 22, 19]})\n",
    "print(df['nome'])  # Selecionar coluna\n",
    "print(df[df['idade'] > 18])  # Filtrar linhas"
   ]
  },
  {
   "cell_type": "code",
   "execution_count": 16,
   "id": "b0031ac4",
   "metadata": {},
   "outputs": [
    {
     "name": "stdout",
     "output_type": "stream",
     "text": [
      "     a    b\n",
      "0  1.0  4.0\n",
      "     a    b\n",
      "0  1.0  4.0\n",
      "1  0.0  5.0\n",
      "2  3.0  0.0\n"
     ]
    }
   ],
   "source": [
    "# 10. Utilizando pandas, como lidar com valores ausentes (NaN) em um DataFrame?\n",
    "import pandas as pd\n",
    "\n",
    "df = pd.DataFrame({'a': [1, None, 3], 'b': [4, 5, None]})\n",
    "print(df.dropna())     # Remove linhas com NaN\n",
    "print(df.fillna(0))    # Substitui NaN por zero"
   ]
  }
 ],
 "metadata": {
  "kernelspec": {
   "display_name": "Python 3",
   "language": "python",
   "name": "python3"
  },
  "language_info": {
   "codemirror_mode": {
    "name": "ipython",
    "version": 3
   },
   "file_extension": ".py",
   "mimetype": "text/x-python",
   "name": "python",
   "nbconvert_exporter": "python",
   "pygments_lexer": "ipython3",
   "version": "3.13.3"
  }
 },
 "nbformat": 4,
 "nbformat_minor": 5
}
